{
  "nbformat": 4,
  "nbformat_minor": 0,
  "metadata": {
    "colab": {
      "name": "WeeK2.ipynb",
      "private_outputs": true,
      "provenance": []
    },
    "kernelspec": {
      "name": "python3",
      "display_name": "Python 3"
    }
  },
  "cells": [
    {
      "cell_type": "code",
      "metadata": {
        "id": "l27rNbFG_KMV"
      },
      "source": [
        "import numpy as np\n",
        "import pandas as pd"
      ],
      "execution_count": null,
      "outputs": []
    },
    {
      "cell_type": "code",
      "metadata": {
        "id": "C8ZSM7g_AIT8"
      },
      "source": [
        "y = np.random.randint(2, size=(5000, 1))\n",
        "x = np.random.randint(10, size=(5000, 1))\n",
        "data = pd.DataFrame(np.concatenate([y, x], axis=1), columns=['y', 'x'])"
      ],
      "execution_count": null,
      "outputs": []
    },
    {
      "cell_type": "code",
      "metadata": {
        "id": "P5bj2FKIAJUQ"
      },
      "source": [
        "\n",
        "def target_mean_v1(data, y_name, x_name):\n",
        "  result = np.zeros(data.shape[0])\n",
        "  for i in range(data.shape[0]):\n",
        "    groupby_result = data[data.index != i].groupby([x_name], as_index=False).agg(['mean', 'count'])\n",
        "    result[i] = groupby_result.loc[groupby_result.index == data.loc[i, x_name], (y_name, 'mean')]\n",
        "  return result"
      ],
      "execution_count": null,
      "outputs": []
    },
    {
      "cell_type": "code",
      "metadata": {
        "id": "OVxnXvxGAJZd"
      },
      "source": [
        "\n",
        "def target_mean_v2(data, y_name, x_name):\n",
        "  result = np.zeros(data.shape[0])\n",
        "  value_dict = dict()\n",
        "  count_dict = dict()\n",
        "  for i in range(data.shape[0]):\n",
        "    if data.loc[i, x_name] not in value_dict.keys():\n",
        "      value_dict[data.loc[i, x_name]] = data.loc[i, y_name]\n",
        "      count_dict[data.loc[i, x_name]] = 1\n",
        "    else:\n",
        "      value_dict[data.loc[i, x_name]] += data.loc[i, y_name]\n",
        "      count_dict[data.loc[i, x_name]] += 1\n",
        "  for i in range(data.shape[0]):\n",
        "    result[i] = (value_dict[data.loc[i, x_name]] - data.loc[i, y_name]) / (count_dict[data.loc[i, x_name]] - 1)\n",
        "  return result"
      ],
      "execution_count": null,
      "outputs": []
    },
    {
      "cell_type": "code",
      "metadata": {
        "id": "GmdSG_UXAJdN"
      },
      "source": [
        "%%timeit\n",
        "result_1 = target_mean_v1(data, 'y', 'x')"
      ],
      "execution_count": null,
      "outputs": []
    },
    {
      "cell_type": "code",
      "metadata": {
        "id": "VVwUZqdwAJg9"
      },
      "source": [
        "\n",
        "%%timeit\n",
        "result_2 = target_mean_v2(data, 'y', 'x')"
      ],
      "execution_count": null,
      "outputs": []
    },
    {
      "cell_type": "code",
      "metadata": {
        "id": "4y0VAJjgAJkQ"
      },
      "source": [
        "\n",
        "result_1 = target_mean_v1(data, 'y', 'x')\n",
        "result_2 = target_mean_v2(data, 'y', 'x')\n",
        "diff = np.linalg.norm(result_1 - result_2)\n",
        "print(diff)"
      ],
      "execution_count": null,
      "outputs": []
    },
    {
      "cell_type": "code",
      "metadata": {
        "id": "8bp2KRhTB8tX"
      },
      "source": [
        "\n",
        "%load_ext Cython"
      ],
      "execution_count": null,
      "outputs": []
    },
    {
      "cell_type": "code",
      "metadata": {
        "id": "vUeYsDZAAJnX"
      },
      "source": [
        "\n",
        "%%cython -a\n",
        "\n",
        "import numpy as np\n",
        "import numpy as cnp\n",
        "\n",
        "def target_mean_v3(data, y_name, x_name):\n",
        "  cdef:\n",
        "    int length = data.shape[0]\n",
        "    dict value_dict = {}\n",
        "    dict count_dict = {}\n",
        "    cnp.ndarray[cnp.float64_t] result = np.zeros(length, dtype=np.float64)\n",
        "    cnp.ndarray[cnp.int_t] y = data[y_name].values\n",
        "    cnp.ndarray[cnp.int_t] x = data[x_name].values\n",
        "  for i in range(length):\n",
        "    if x[i] not in value_dict:\n",
        "      value_dict[x[i]] = y[i]\n",
        "      count_dict[x[i]] = 1\n",
        "    else:\n",
        "      value_dict[x[i]] += y[i]\n",
        "      count_dict[x[i]] += 1\n",
        "  for i in range(length):\n",
        "    result[i] = (value_dict[x[i]] - y[i]) / (count_dict[x[i]] - 1)\n",
        "  return result"
      ],
      "execution_count": null,
      "outputs": []
    },
    {
      "cell_type": "code",
      "metadata": {
        "id": "M88NptvbD2J5"
      },
      "source": [
        "result_4 = target_mean_v1(data, 'y', 'x')\n",
        "result_2 = target_mean_v2(data, 'y', 'x')\n",
        "diff = np.linalg.norm(result_4 - result_2)\n",
        "print(diff)"
      ],
      "execution_count": null,
      "outputs": []
    }
  ]
}